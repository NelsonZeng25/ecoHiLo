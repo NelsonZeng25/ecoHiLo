{
 "cells": [
  {
   "cell_type": "code",
   "execution_count": 66,
   "metadata": {},
   "outputs": [],
   "source": [
    "import pandas as pd\n",
    "\n",
    "df = pd.read_excel(\"./agriculture_products.xlsx\", usecols=[0,1])"
   ]
  },
  {
   "cell_type": "code",
   "execution_count": 67,
   "metadata": {},
   "outputs": [],
   "source": [
    "def parse(key, prod_name, names, averages, counts, df, row):\n",
    "    if key in names:\n",
    "        names[key].add(prod_name)\n",
    "        averages[key] += df.iloc[row, 1]\n",
    "        counts[key] += 1\n",
    "    else:\n",
    "        names[key] = set([prod_name])\n",
    "        averages[key] = df.iloc[row, 1]\n",
    "        counts[key] = 1"
   ]
  },
  {
   "cell_type": "code",
   "execution_count": 68,
   "metadata": {},
   "outputs": [],
   "source": [
    "#Calculate new averages\n",
    "product_names, product_averages, product_counts = dict(), dict(), dict()\n",
    "\n",
    "for i in range(df.shape[0]):\n",
    "    product = df.iloc[i,0].split(',')[0].lower()\n",
    "    first_word = product.split(' ')[0].lower()\n",
    "    \n",
    "    if first_word == 'total': continue\n",
    "    elif first_word == 'potatoes': parse('potato', product, product_names, product_averages, product_counts, df, i)\n",
    "    elif first_word == 'groundnuts': parse('groundnut', product, product_names, product_averages, product_counts, df, i)\n",
    "    elif first_word == 'crude':\n",
    "        second_word = product.split(' ')[1].lower()\n",
    "        \n",
    "        parse(second_word, product, product_names, product_averages, product_counts, df, i)\n",
    "    else: parse(first_word, product, product_names, product_averages, product_counts, df, i)\n",
    "        \n",
    "for product in product_averages:\n",
    "    product_averages[product] /= product_counts[product]"
   ]
  },
  {
   "cell_type": "code",
   "execution_count": 83,
   "metadata": {},
   "outputs": [],
   "source": [
    "#Set up lists for output dataframe\n",
    "processed_names, processed_averages = [], []\n",
    "\n",
    "for product in product_names:\n",
    "    if product == 'oil':\n",
    "        processed_names.append('Palm oil')\n",
    "        processed_averages.append(product_averages[product])\n",
    "    elif product == 'soap':\n",
    "        processed_names.append('Soap')\n",
    "        processed_averages.append(product_averages[product])\n",
    "    elif len(product_names[product]) == 1: \n",
    "        processed_names.append(list(product_names[product])[0].capitalize())\n",
    "        processed_averages.append(product_averages[product])\n",
    "    else: \n",
    "        processed_names.append(product.capitalize())\n",
    "        processed_averages.append(product_averages[product])"
   ]
  },
  {
   "cell_type": "code",
   "execution_count": 87,
   "metadata": {},
   "outputs": [],
   "source": [
    "out_df = pd.DataFrame(data={'product': processed_names, 'carbonintensity': processed_averages, 'link': ['' for i in range(len(processed_names))]})"
   ]
  },
  {
   "cell_type": "code",
   "execution_count": 89,
   "metadata": {},
   "outputs": [],
   "source": [
    "out_df.to_csv('agricultural_products_processed_data.csv', index=False)"
   ]
  }
 ],
 "metadata": {
  "kernelspec": {
   "display_name": "Python 3",
   "language": "python",
   "name": "python3"
  },
  "language_info": {
   "codemirror_mode": {
    "name": "ipython",
    "version": 3
   },
   "file_extension": ".py",
   "mimetype": "text/x-python",
   "name": "python",
   "nbconvert_exporter": "python",
   "pygments_lexer": "ipython3",
   "version": "3.7.3"
  }
 },
 "nbformat": 4,
 "nbformat_minor": 2
}
